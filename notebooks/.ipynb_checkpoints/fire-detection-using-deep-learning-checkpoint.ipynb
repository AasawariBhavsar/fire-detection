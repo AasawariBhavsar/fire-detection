{
 "cells": [
  {
   "cell_type": "markdown",
   "metadata": {},
   "source": [
    "# For-rest from Fires (Fire Detection Model using Deep Learning)"
   ]
  },
  {
   "cell_type": "markdown",
   "metadata": {},
   "source": [
    "### Problem Statement:"
   ]
  },
  {
   "cell_type": "markdown",
   "metadata": {},
   "source": [
    "Lately, there have been many fire outbreaks which is becoming a growing issue and the damage\n",
    "caused by these types of incidents is tremendous to nature and human interests. Such incidents\n",
    "have highlighted the need for more effective and efficient fire detection systems.\n",
    "\n",
    "The traditional systems that rely on temperature or smoke sensors have limitations such as slow\n",
    "response time and inefficiency when the fire is at a distance from the detectors.\n",
    "\n",
    "Moreover, these systems are also costly. As an alternative, researchers are exploring computer\n",
    "vision and image processing techniques as a cost-effective solution. One such method is the use\n",
    "of surveillance cameras to detect fires and alert the relevant parties.\n",
    "\n",
    "Computer vision-based fire detection, which utilizes image processing techniques, has the\n",
    "potential to be a useful approach in situations where traditional methods are not feasible. The\n",
    "algorithm for fire detection uses visual characteristics of fires such as brightness, color, texture,\n",
    "flicker, and trembling edges to distinguish them from other stimuli.\n",
    "\n",
    "This project is aimed at building a Fire Detection Model using Deep Learning."
   ]
  },
  {
   "cell_type": "code",
   "execution_count": null,
   "metadata": {},
   "outputs": [],
   "source": []
  }
 ],
 "metadata": {
  "kernelspec": {
   "display_name": "Python 3 (ipykernel)",
   "language": "python",
   "name": "python3"
  },
  "language_info": {
   "codemirror_mode": {
    "name": "ipython",
    "version": 3
   },
   "file_extension": ".py",
   "mimetype": "text/x-python",
   "name": "python",
   "nbconvert_exporter": "python",
   "pygments_lexer": "ipython3",
   "version": "3.11.5"
  }
 },
 "nbformat": 4,
 "nbformat_minor": 2
}
